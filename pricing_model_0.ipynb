{
 "cells": [
  {
   "cell_type": "code",
   "execution_count": 53,
   "id": "92849e33-af1b-4f49-9c84-cae4a72a6bcf",
   "metadata": {},
   "outputs": [
    {
     "data": {
      "text/plain": [
       "'cpu'"
      ]
     },
     "execution_count": 53,
     "metadata": {},
     "output_type": "execute_result"
    }
   ],
   "source": [
    "import pandas as pd\n",
    "import numpy as np\n",
    "import torch\n",
    "import torch.nn as nn\n",
    "import torch.nn.functional as F\n",
    "import torchmetrics\n",
    "device = \"cuda\" if torch.cuda.is_available() else \"cpu\"\n",
    "torch.set_default_device(device)\n",
    "device"
   ]
  },
  {
   "cell_type": "code",
   "execution_count": 54,
   "id": "a6ef7e05-2ed1-4d56-a77a-48558c0f6199",
   "metadata": {},
   "outputs": [],
   "source": [
    "# import requests\n",
    "# from pathlib import Path \n",
    "\n",
    "# # Download helper functions from Learn PyTorch repo (if not already downloaded)\n",
    "# if Path(\"helper_functions.py\").is_file():\n",
    "#   print(\"helper_functions.py already exists, skipping download\")\n",
    "# else:\n",
    "#   print(\"Downloading helper_functions.py\")\n",
    "#   # Note: you need the \"raw\" GitHub URL for this to work\n",
    "#   request = requests.get(\"https://raw.githubusercontent.com/mrdbourke/pytorch-deep-learning/main/helper_functions.py\")\n",
    "#   with open(\"helper_functions.py\", \"wb\") as f:\n",
    "#     f.write(request.content)"
   ]
  },
  {
   "cell_type": "code",
   "execution_count": 55,
   "id": "29e86e34-5e17-4cb3-baab-18b9912576ab",
   "metadata": {},
   "outputs": [
    {
     "name": "stdout",
     "output_type": "stream",
     "text": [
      "Requirement already satisfied: tqdm in /usr/local/lib/python3.11/site-packages (4.66.1)\n"
     ]
    }
   ],
   "source": [
    "!pip3 install tqdm"
   ]
  },
  {
   "cell_type": "code",
   "execution_count": 56,
   "id": "5bd8c65b-3a1a-4366-bc92-d56e53b6b9fb",
   "metadata": {},
   "outputs": [
    {
     "name": "stderr",
     "output_type": "stream",
     "text": [
      "/var/folders/cr/n_94fxl11c57rv6csplpw9dc0000gn/T/ipykernel_73611/2305619842.py:1: DtypeWarning: Columns (7) have mixed types. Specify dtype option on import or set low_memory=False.\n",
      "  df = pd.read_csv('baseline_data.csv')\n"
     ]
    }
   ],
   "source": [
    "df = pd.read_csv('baseline_data.csv')"
   ]
  },
  {
   "cell_type": "code",
   "execution_count": 57,
   "id": "6e9a886d-6301-4a6e-80c1-c40693135b66",
   "metadata": {},
   "outputs": [
    {
     "data": {
      "text/html": [
       "<div>\n",
       "<style scoped>\n",
       "    .dataframe tbody tr th:only-of-type {\n",
       "        vertical-align: middle;\n",
       "    }\n",
       "\n",
       "    .dataframe tbody tr th {\n",
       "        vertical-align: top;\n",
       "    }\n",
       "\n",
       "    .dataframe thead th {\n",
       "        text-align: right;\n",
       "    }\n",
       "</style>\n",
       "<table border=\"1\" class=\"dataframe\">\n",
       "  <thead>\n",
       "    <tr style=\"text-align: right;\">\n",
       "      <th></th>\n",
       "      <th>mrd_type</th>\n",
       "      <th>original_list_price</th>\n",
       "      <th>list_price</th>\n",
       "      <th>close_price</th>\n",
       "      <th>association_fee</th>\n",
       "      <th>tax_annual_amount</th>\n",
       "      <th>days_on_market</th>\n",
       "      <th>postal_code</th>\n",
       "      <th>rooms_total</th>\n",
       "      <th>bedrooms_total</th>\n",
       "      <th>...</th>\n",
       "      <th>garage_spaces</th>\n",
       "      <th>lot_size_acres</th>\n",
       "      <th>living_area</th>\n",
       "      <th>year_built</th>\n",
       "      <th>public_remarks</th>\n",
       "      <th>elementary_school_district</th>\n",
       "      <th>middle_or_junior_school_district</th>\n",
       "      <th>high_school_district</th>\n",
       "      <th>waterfront_yn</th>\n",
       "      <th>street_dir_prefix</th>\n",
       "    </tr>\n",
       "  </thead>\n",
       "  <tbody>\n",
       "    <tr>\n",
       "      <th>0</th>\n",
       "      <td>Detached Single</td>\n",
       "      <td>189900.0</td>\n",
       "      <td>189900.0</td>\n",
       "      <td>190000.0</td>\n",
       "      <td>0.0</td>\n",
       "      <td>1102.0</td>\n",
       "      <td>3</td>\n",
       "      <td>46366</td>\n",
       "      <td>9</td>\n",
       "      <td>3</td>\n",
       "      <td>...</td>\n",
       "      <td>2.0</td>\n",
       "      <td>0.0</td>\n",
       "      <td>1886</td>\n",
       "      <td>1875</td>\n",
       "      <td>Perfectly situated on 10 acres of land, this 3...</td>\n",
       "      <td>NaN</td>\n",
       "      <td>NaN</td>\n",
       "      <td>NaN</td>\n",
       "      <td>False</td>\n",
       "      <td>W</td>\n",
       "    </tr>\n",
       "    <tr>\n",
       "      <th>1</th>\n",
       "      <td>Attached Single</td>\n",
       "      <td>2992002.0</td>\n",
       "      <td>2992002.0</td>\n",
       "      <td>2749916.0</td>\n",
       "      <td>1619.0</td>\n",
       "      <td>0.0</td>\n",
       "      <td>26</td>\n",
       "      <td>60601</td>\n",
       "      <td>7</td>\n",
       "      <td>3</td>\n",
       "      <td>...</td>\n",
       "      <td>1.0</td>\n",
       "      <td>0.0</td>\n",
       "      <td>2586</td>\n",
       "      <td>0</td>\n",
       "      <td>Introducing Vista Residences Chicago's New Lux...</td>\n",
       "      <td>299</td>\n",
       "      <td>299</td>\n",
       "      <td>299</td>\n",
       "      <td>True</td>\n",
       "      <td>E</td>\n",
       "    </tr>\n",
       "    <tr>\n",
       "      <th>2</th>\n",
       "      <td>Attached Single</td>\n",
       "      <td>1969100.0</td>\n",
       "      <td>1969100.0</td>\n",
       "      <td>1670267.0</td>\n",
       "      <td>1064.0</td>\n",
       "      <td>0.0</td>\n",
       "      <td>2</td>\n",
       "      <td>60601</td>\n",
       "      <td>6</td>\n",
       "      <td>3</td>\n",
       "      <td>...</td>\n",
       "      <td>1.0</td>\n",
       "      <td>0.0</td>\n",
       "      <td>2804</td>\n",
       "      <td>0</td>\n",
       "      <td>Introducing Vista Residences Chicago's New Lux...</td>\n",
       "      <td>299</td>\n",
       "      <td>299</td>\n",
       "      <td>299</td>\n",
       "      <td>True</td>\n",
       "      <td>E</td>\n",
       "    </tr>\n",
       "    <tr>\n",
       "      <th>3</th>\n",
       "      <td>Attached Single</td>\n",
       "      <td>1164240.0</td>\n",
       "      <td>1164240.0</td>\n",
       "      <td>1085145.0</td>\n",
       "      <td>633.0</td>\n",
       "      <td>0.0</td>\n",
       "      <td>2</td>\n",
       "      <td>60601</td>\n",
       "      <td>4</td>\n",
       "      <td>1</td>\n",
       "      <td>...</td>\n",
       "      <td>1.0</td>\n",
       "      <td>0.0</td>\n",
       "      <td>1176</td>\n",
       "      <td>0</td>\n",
       "      <td>Introducing Vista Residences Chicago's New Lux...</td>\n",
       "      <td>299</td>\n",
       "      <td>299</td>\n",
       "      <td>299</td>\n",
       "      <td>True</td>\n",
       "      <td>E</td>\n",
       "    </tr>\n",
       "    <tr>\n",
       "      <th>4</th>\n",
       "      <td>Attached Single</td>\n",
       "      <td>1380000.0</td>\n",
       "      <td>1470670.0</td>\n",
       "      <td>1306059.0</td>\n",
       "      <td>750.0</td>\n",
       "      <td>0.0</td>\n",
       "      <td>5</td>\n",
       "      <td>60601</td>\n",
       "      <td>7</td>\n",
       "      <td>2</td>\n",
       "      <td>...</td>\n",
       "      <td>1.0</td>\n",
       "      <td>0.0</td>\n",
       "      <td>2000</td>\n",
       "      <td>0</td>\n",
       "      <td>Introducing Vista Residences Chicago's New Lux...</td>\n",
       "      <td>299</td>\n",
       "      <td>299</td>\n",
       "      <td>299</td>\n",
       "      <td>True</td>\n",
       "      <td>E</td>\n",
       "    </tr>\n",
       "  </tbody>\n",
       "</table>\n",
       "<p>5 rows × 22 columns</p>\n",
       "</div>"
      ],
      "text/plain": [
       "          mrd_type  original_list_price  list_price  close_price  \\\n",
       "0  Detached Single             189900.0    189900.0     190000.0   \n",
       "1  Attached Single            2992002.0   2992002.0    2749916.0   \n",
       "2  Attached Single            1969100.0   1969100.0    1670267.0   \n",
       "3  Attached Single            1164240.0   1164240.0    1085145.0   \n",
       "4  Attached Single            1380000.0   1470670.0    1306059.0   \n",
       "\n",
       "   association_fee  tax_annual_amount  days_on_market postal_code  \\\n",
       "0              0.0             1102.0               3       46366   \n",
       "1           1619.0                0.0              26       60601   \n",
       "2           1064.0                0.0               2       60601   \n",
       "3            633.0                0.0               2       60601   \n",
       "4            750.0                0.0               5       60601   \n",
       "\n",
       "   rooms_total  bedrooms_total  ...  garage_spaces  lot_size_acres  \\\n",
       "0            9               3  ...            2.0             0.0   \n",
       "1            7               3  ...            1.0             0.0   \n",
       "2            6               3  ...            1.0             0.0   \n",
       "3            4               1  ...            1.0             0.0   \n",
       "4            7               2  ...            1.0             0.0   \n",
       "\n",
       "   living_area  year_built                                     public_remarks  \\\n",
       "0         1886        1875  Perfectly situated on 10 acres of land, this 3...   \n",
       "1         2586           0  Introducing Vista Residences Chicago's New Lux...   \n",
       "2         2804           0  Introducing Vista Residences Chicago's New Lux...   \n",
       "3         1176           0  Introducing Vista Residences Chicago's New Lux...   \n",
       "4         2000           0  Introducing Vista Residences Chicago's New Lux...   \n",
       "\n",
       "   elementary_school_district middle_or_junior_school_district  \\\n",
       "0                         NaN                              NaN   \n",
       "1                         299                              299   \n",
       "2                         299                              299   \n",
       "3                         299                              299   \n",
       "4                         299                              299   \n",
       "\n",
       "  high_school_district waterfront_yn street_dir_prefix  \n",
       "0                  NaN         False                 W  \n",
       "1                  299          True                 E  \n",
       "2                  299          True                 E  \n",
       "3                  299          True                 E  \n",
       "4                  299          True                 E  \n",
       "\n",
       "[5 rows x 22 columns]"
      ]
     },
     "execution_count": 57,
     "metadata": {},
     "output_type": "execute_result"
    }
   ],
   "source": [
    "df.head()"
   ]
  },
  {
   "cell_type": "code",
   "execution_count": 58,
   "id": "391fce4d-221c-42c7-b48a-6298c259d356",
   "metadata": {},
   "outputs": [
    {
     "name": "stdout",
     "output_type": "stream",
     "text": [
      "<class 'pandas.core.frame.DataFrame'>\n",
      "RangeIndex: 400918 entries, 0 to 400917\n",
      "Data columns (total 22 columns):\n",
      " #   Column                            Non-Null Count   Dtype  \n",
      "---  ------                            --------------   -----  \n",
      " 0   mrd_type                          400918 non-null  object \n",
      " 1   original_list_price               400918 non-null  float64\n",
      " 2   list_price                        400918 non-null  float64\n",
      " 3   close_price                       400918 non-null  float64\n",
      " 4   association_fee                   400918 non-null  float64\n",
      " 5   tax_annual_amount                 400918 non-null  float64\n",
      " 6   days_on_market                    400918 non-null  int64  \n",
      " 7   postal_code                       400918 non-null  object \n",
      " 8   rooms_total                       400918 non-null  int64  \n",
      " 9   bedrooms_total                    400918 non-null  int64  \n",
      " 10  bathrooms_full                    400918 non-null  int64  \n",
      " 11  bathrooms_half                    400918 non-null  int64  \n",
      " 12  garage_spaces                     400918 non-null  float64\n",
      " 13  lot_size_acres                    400918 non-null  float64\n",
      " 14  living_area                       400918 non-null  int64  \n",
      " 15  year_built                        400918 non-null  int64  \n",
      " 16  public_remarks                    393372 non-null  object \n",
      " 17  elementary_school_district        398787 non-null  object \n",
      " 18  middle_or_junior_school_district  398752 non-null  object \n",
      " 19  high_school_district              398663 non-null  object \n",
      " 20  waterfront_yn                     400918 non-null  bool   \n",
      " 21  street_dir_prefix                 170768 non-null  object \n",
      "dtypes: bool(1), float64(7), int64(7), object(7)\n",
      "memory usage: 64.6+ MB\n"
     ]
    }
   ],
   "source": [
    "df.info()\n",
    "df = df.drop(['street_dir_prefix'],axis=1)"
   ]
  },
  {
   "cell_type": "code",
   "execution_count": 59,
   "id": "dd4bac2d-2c2d-433b-8d6f-1e3730562743",
   "metadata": {},
   "outputs": [
    {
     "data": {
      "text/plain": [
       "Index(['mrd_type', 'original_list_price', 'list_price', 'close_price',\n",
       "       'association_fee', 'tax_annual_amount', 'days_on_market', 'postal_code',\n",
       "       'rooms_total', 'bedrooms_total', 'bathrooms_full', 'bathrooms_half',\n",
       "       'garage_spaces', 'lot_size_acres', 'living_area', 'year_built',\n",
       "       'public_remarks', 'elementary_school_district',\n",
       "       'middle_or_junior_school_district', 'high_school_district',\n",
       "       'waterfront_yn'],\n",
       "      dtype='object')"
      ]
     },
     "execution_count": 59,
     "metadata": {},
     "output_type": "execute_result"
    }
   ],
   "source": [
    "df.columns"
   ]
  },
  {
   "cell_type": "code",
   "execution_count": 60,
   "id": "93327c38-ebc3-4d20-8e97-4540ac4b1c48",
   "metadata": {},
   "outputs": [],
   "source": [
    "unique_elementary = df[[\"postal_code\",\"elementary_school_district\"]].groupby([\"postal_code\",\"elementary_school_district\"]).size().reset_index().rename(columns={0:'count'})\n",
    "unique_middle = df[[\"postal_code\",\"middle_or_junior_school_district\"]].groupby([\"postal_code\",\"middle_or_junior_school_district\"]).size().reset_index().rename(columns={0:'count'})\n",
    "unique_high = df[[\"postal_code\",\"high_school_district\"]].groupby([\"postal_code\",\"high_school_district\"]).size().reset_index().rename(columns={0:'count'})"
   ]
  },
  {
   "cell_type": "code",
   "execution_count": 61,
   "id": "fc40e676-ceeb-4401-87be-c650124010fd",
   "metadata": {},
   "outputs": [],
   "source": [
    "el_dict = dict(zip(unique_elementary.postal_code, unique_elementary.elementary_school_district))\n",
    "md_dict = dict(zip(unique_middle.postal_code, unique_middle.middle_or_junior_school_district))\n",
    "hs_dict = dict(zip(unique_high.postal_code, unique_high.high_school_district))"
   ]
  },
  {
   "cell_type": "code",
   "execution_count": 62,
   "id": "bff422b2-88c4-48c5-9f77-a93b8bec93d8",
   "metadata": {},
   "outputs": [],
   "source": [
    "df.public_remarks = df.public_remarks.fillna('')\n",
    "df.elementary_school_district = df.elementary_school_district.fillna(df.postal_code.map(el_dict))\n",
    "df.middle_or_junior_school_district = df.middle_or_junior_school_district.fillna(df.postal_code.map(md_dict))\n",
    "df.high_school_district = df.high_school_district.fillna(df.postal_code.map(hs_dict))"
   ]
  },
  {
   "cell_type": "code",
   "execution_count": 63,
   "id": "6409d2a2-6a61-4f53-a6ca-422b7f16d690",
   "metadata": {},
   "outputs": [],
   "source": [
    "df = df.dropna(axis=0)"
   ]
  },
  {
   "cell_type": "code",
   "execution_count": 64,
   "id": "50c077b9-e357-43a9-939f-1d71141e356f",
   "metadata": {},
   "outputs": [
    {
     "name": "stdout",
     "output_type": "stream",
     "text": [
      "<class 'pandas.core.frame.DataFrame'>\n",
      "Index: 400040 entries, 1 to 400917\n",
      "Data columns (total 21 columns):\n",
      " #   Column                            Non-Null Count   Dtype  \n",
      "---  ------                            --------------   -----  \n",
      " 0   mrd_type                          400040 non-null  object \n",
      " 1   original_list_price               400040 non-null  float64\n",
      " 2   list_price                        400040 non-null  float64\n",
      " 3   close_price                       400040 non-null  float64\n",
      " 4   association_fee                   400040 non-null  float64\n",
      " 5   tax_annual_amount                 400040 non-null  float64\n",
      " 6   days_on_market                    400040 non-null  int64  \n",
      " 7   postal_code                       400040 non-null  object \n",
      " 8   rooms_total                       400040 non-null  int64  \n",
      " 9   bedrooms_total                    400040 non-null  int64  \n",
      " 10  bathrooms_full                    400040 non-null  int64  \n",
      " 11  bathrooms_half                    400040 non-null  int64  \n",
      " 12  garage_spaces                     400040 non-null  float64\n",
      " 13  lot_size_acres                    400040 non-null  float64\n",
      " 14  living_area                       400040 non-null  int64  \n",
      " 15  year_built                        400040 non-null  int64  \n",
      " 16  public_remarks                    400040 non-null  object \n",
      " 17  elementary_school_district        400040 non-null  object \n",
      " 18  middle_or_junior_school_district  400040 non-null  object \n",
      " 19  high_school_district              400040 non-null  object \n",
      " 20  waterfront_yn                     400040 non-null  bool   \n",
      "dtypes: bool(1), float64(7), int64(7), object(6)\n",
      "memory usage: 64.5+ MB\n"
     ]
    }
   ],
   "source": [
    "df.info()"
   ]
  },
  {
   "cell_type": "code",
   "execution_count": 65,
   "id": "627865b0-6f84-4fb4-ac17-6b8faf958506",
   "metadata": {},
   "outputs": [],
   "source": [
    "cat_cols = list(df.select_dtypes(include=['object','bool']).columns)\n",
    "num_cols = list(df.select_dtypes(include=['float64','int64']).columns)\n",
    "\n",
    "cat_cols.remove('public_remarks',)\n",
    "num_cols.remove('close_price')\n",
    "\n",
    "df_text = df[['public_remarks']].reset_index(drop='True').astype('string')\n",
    "df_target = df[['close_price']].reset_index(drop='True')\n",
    "\n",
    "df_cat = df[cat_cols].reset_index(drop='True').astype('string')\n",
    "\n",
    "df_num = df[num_cols].reset_index(drop='True')"
   ]
  },
  {
   "cell_type": "code",
   "execution_count": 66,
   "id": "84162fd7-567c-404a-84c3-d0034fad6fc3",
   "metadata": {
    "scrolled": true
   },
   "outputs": [
    {
     "data": {
      "text/plain": [
       "Index(['mrd_type', 'postal_code', 'elementary_school_district',\n",
       "       'middle_or_junior_school_district', 'high_school_district',\n",
       "       'waterfront_yn'],\n",
       "      dtype='object')"
      ]
     },
     "execution_count": 66,
     "metadata": {},
     "output_type": "execute_result"
    }
   ],
   "source": [
    "df_cat.columns"
   ]
  },
  {
   "cell_type": "code",
   "execution_count": 67,
   "id": "d1a1452b-88a6-4b8d-8457-fd500a0eb99d",
   "metadata": {
    "scrolled": true
   },
   "outputs": [
    {
     "data": {
      "text/plain": [
       "Index(['original_list_price', 'list_price', 'association_fee',\n",
       "       'tax_annual_amount', 'days_on_market', 'rooms_total', 'bedrooms_total',\n",
       "       'bathrooms_full', 'bathrooms_half', 'garage_spaces', 'lot_size_acres',\n",
       "       'living_area', 'year_built'],\n",
       "      dtype='object')"
      ]
     },
     "execution_count": 67,
     "metadata": {},
     "output_type": "execute_result"
    }
   ],
   "source": [
    "df_num.columns"
   ]
  },
  {
   "cell_type": "code",
   "execution_count": 68,
   "id": "56821749-7303-42e4-a886-99df4f7c5d7c",
   "metadata": {},
   "outputs": [
    {
     "name": "stdout",
     "output_type": "stream",
     "text": [
      "<class 'pandas.core.frame.DataFrame'>\n",
      "RangeIndex: 400040 entries, 0 to 400039\n",
      "Data columns (total 13 columns):\n",
      " #   Column               Non-Null Count   Dtype  \n",
      "---  ------               --------------   -----  \n",
      " 0   original_list_price  400040 non-null  float64\n",
      " 1   list_price           400040 non-null  float64\n",
      " 2   association_fee      400040 non-null  float64\n",
      " 3   tax_annual_amount    400040 non-null  float64\n",
      " 4   days_on_market       400040 non-null  int64  \n",
      " 5   rooms_total          400040 non-null  int64  \n",
      " 6   bedrooms_total       400040 non-null  int64  \n",
      " 7   bathrooms_full       400040 non-null  int64  \n",
      " 8   bathrooms_half       400040 non-null  int64  \n",
      " 9   garage_spaces        400040 non-null  float64\n",
      " 10  lot_size_acres       400040 non-null  float64\n",
      " 11  living_area          400040 non-null  int64  \n",
      " 12  year_built           400040 non-null  int64  \n",
      "dtypes: float64(6), int64(7)\n",
      "memory usage: 39.7 MB\n"
     ]
    }
   ],
   "source": [
    "df_num.info()"
   ]
  },
  {
   "cell_type": "code",
   "execution_count": 69,
   "id": "3adf111f-f66d-4a70-8961-37b8eca191ec",
   "metadata": {},
   "outputs": [
    {
     "name": "stdout",
     "output_type": "stream",
     "text": [
      "<class 'pandas.core.frame.DataFrame'>\n",
      "RangeIndex: 400040 entries, 0 to 400039\n",
      "Data columns (total 6 columns):\n",
      " #   Column                            Non-Null Count   Dtype \n",
      "---  ------                            --------------   ----- \n",
      " 0   mrd_type                          400040 non-null  string\n",
      " 1   postal_code                       400040 non-null  string\n",
      " 2   elementary_school_district        400040 non-null  string\n",
      " 3   middle_or_junior_school_district  400040 non-null  string\n",
      " 4   high_school_district              400040 non-null  string\n",
      " 5   waterfront_yn                     400040 non-null  string\n",
      "dtypes: string(6)\n",
      "memory usage: 18.3 MB\n"
     ]
    }
   ],
   "source": [
    "df_cat.info()"
   ]
  },
  {
   "cell_type": "code",
   "execution_count": 70,
   "id": "b6ec148e-2c74-46a9-b199-3894cdc4c217",
   "metadata": {},
   "outputs": [
    {
     "name": "stdout",
     "output_type": "stream",
     "text": [
      "<class 'pandas.core.frame.DataFrame'>\n",
      "RangeIndex: 400040 entries, 0 to 400039\n",
      "Data columns (total 1 columns):\n",
      " #   Column       Non-Null Count   Dtype  \n",
      "---  ------       --------------   -----  \n",
      " 0   close_price  400040 non-null  float64\n",
      "dtypes: float64(1)\n",
      "memory usage: 3.1 MB\n"
     ]
    }
   ],
   "source": [
    "df_target.info()"
   ]
  },
  {
   "cell_type": "code",
   "execution_count": 71,
   "id": "f21d305e-7a7f-40a4-a859-bbf11676d904",
   "metadata": {},
   "outputs": [
    {
     "data": {
      "text/html": [
       "<div>\n",
       "<style scoped>\n",
       "    .dataframe tbody tr th:only-of-type {\n",
       "        vertical-align: middle;\n",
       "    }\n",
       "\n",
       "    .dataframe tbody tr th {\n",
       "        vertical-align: top;\n",
       "    }\n",
       "\n",
       "    .dataframe thead th {\n",
       "        text-align: right;\n",
       "    }\n",
       "</style>\n",
       "<table border=\"1\" class=\"dataframe\">\n",
       "  <thead>\n",
       "    <tr style=\"text-align: right;\">\n",
       "      <th></th>\n",
       "      <th>mrd_type_Attached Single</th>\n",
       "      <th>mrd_type_Detached Single</th>\n",
       "      <th>postal_code_46075</th>\n",
       "      <th>postal_code_46168</th>\n",
       "      <th>postal_code_46324</th>\n",
       "      <th>postal_code_46360</th>\n",
       "      <th>postal_code_46373</th>\n",
       "      <th>postal_code_47804</th>\n",
       "      <th>postal_code_47847</th>\n",
       "      <th>postal_code_47862</th>\n",
       "      <th>...</th>\n",
       "      <th>high_school_district_VALM</th>\n",
       "      <th>high_school_district_WAS3</th>\n",
       "      <th>high_school_district_WATE</th>\n",
       "      <th>high_school_district_WEBS</th>\n",
       "      <th>high_school_district_WENT</th>\n",
       "      <th>high_school_district_keno</th>\n",
       "      <th>high_school_district_kenos</th>\n",
       "      <th>high_school_district_salem</th>\n",
       "      <th>waterfront_yn_False</th>\n",
       "      <th>waterfront_yn_True</th>\n",
       "    </tr>\n",
       "  </thead>\n",
       "  <tbody>\n",
       "    <tr>\n",
       "      <th>0</th>\n",
       "      <td>1.0</td>\n",
       "      <td>0.0</td>\n",
       "      <td>0.0</td>\n",
       "      <td>0.0</td>\n",
       "      <td>0.0</td>\n",
       "      <td>0.0</td>\n",
       "      <td>0.0</td>\n",
       "      <td>0.0</td>\n",
       "      <td>0.0</td>\n",
       "      <td>0.0</td>\n",
       "      <td>...</td>\n",
       "      <td>0.0</td>\n",
       "      <td>0.0</td>\n",
       "      <td>0.0</td>\n",
       "      <td>0.0</td>\n",
       "      <td>0.0</td>\n",
       "      <td>0.0</td>\n",
       "      <td>0.0</td>\n",
       "      <td>0.0</td>\n",
       "      <td>0.0</td>\n",
       "      <td>1.0</td>\n",
       "    </tr>\n",
       "    <tr>\n",
       "      <th>1</th>\n",
       "      <td>1.0</td>\n",
       "      <td>0.0</td>\n",
       "      <td>0.0</td>\n",
       "      <td>0.0</td>\n",
       "      <td>0.0</td>\n",
       "      <td>0.0</td>\n",
       "      <td>0.0</td>\n",
       "      <td>0.0</td>\n",
       "      <td>0.0</td>\n",
       "      <td>0.0</td>\n",
       "      <td>...</td>\n",
       "      <td>0.0</td>\n",
       "      <td>0.0</td>\n",
       "      <td>0.0</td>\n",
       "      <td>0.0</td>\n",
       "      <td>0.0</td>\n",
       "      <td>0.0</td>\n",
       "      <td>0.0</td>\n",
       "      <td>0.0</td>\n",
       "      <td>0.0</td>\n",
       "      <td>1.0</td>\n",
       "    </tr>\n",
       "    <tr>\n",
       "      <th>2</th>\n",
       "      <td>1.0</td>\n",
       "      <td>0.0</td>\n",
       "      <td>0.0</td>\n",
       "      <td>0.0</td>\n",
       "      <td>0.0</td>\n",
       "      <td>0.0</td>\n",
       "      <td>0.0</td>\n",
       "      <td>0.0</td>\n",
       "      <td>0.0</td>\n",
       "      <td>0.0</td>\n",
       "      <td>...</td>\n",
       "      <td>0.0</td>\n",
       "      <td>0.0</td>\n",
       "      <td>0.0</td>\n",
       "      <td>0.0</td>\n",
       "      <td>0.0</td>\n",
       "      <td>0.0</td>\n",
       "      <td>0.0</td>\n",
       "      <td>0.0</td>\n",
       "      <td>0.0</td>\n",
       "      <td>1.0</td>\n",
       "    </tr>\n",
       "    <tr>\n",
       "      <th>3</th>\n",
       "      <td>1.0</td>\n",
       "      <td>0.0</td>\n",
       "      <td>0.0</td>\n",
       "      <td>0.0</td>\n",
       "      <td>0.0</td>\n",
       "      <td>0.0</td>\n",
       "      <td>0.0</td>\n",
       "      <td>0.0</td>\n",
       "      <td>0.0</td>\n",
       "      <td>0.0</td>\n",
       "      <td>...</td>\n",
       "      <td>0.0</td>\n",
       "      <td>0.0</td>\n",
       "      <td>0.0</td>\n",
       "      <td>0.0</td>\n",
       "      <td>0.0</td>\n",
       "      <td>0.0</td>\n",
       "      <td>0.0</td>\n",
       "      <td>0.0</td>\n",
       "      <td>0.0</td>\n",
       "      <td>1.0</td>\n",
       "    </tr>\n",
       "    <tr>\n",
       "      <th>4</th>\n",
       "      <td>1.0</td>\n",
       "      <td>0.0</td>\n",
       "      <td>0.0</td>\n",
       "      <td>0.0</td>\n",
       "      <td>0.0</td>\n",
       "      <td>0.0</td>\n",
       "      <td>0.0</td>\n",
       "      <td>0.0</td>\n",
       "      <td>0.0</td>\n",
       "      <td>0.0</td>\n",
       "      <td>...</td>\n",
       "      <td>0.0</td>\n",
       "      <td>0.0</td>\n",
       "      <td>0.0</td>\n",
       "      <td>0.0</td>\n",
       "      <td>0.0</td>\n",
       "      <td>0.0</td>\n",
       "      <td>0.0</td>\n",
       "      <td>0.0</td>\n",
       "      <td>0.0</td>\n",
       "      <td>1.0</td>\n",
       "    </tr>\n",
       "  </tbody>\n",
       "</table>\n",
       "<p>5 rows × 2337 columns</p>\n",
       "</div>"
      ],
      "text/plain": [
       "   mrd_type_Attached Single  mrd_type_Detached Single  postal_code_46075  \\\n",
       "0                       1.0                       0.0                0.0   \n",
       "1                       1.0                       0.0                0.0   \n",
       "2                       1.0                       0.0                0.0   \n",
       "3                       1.0                       0.0                0.0   \n",
       "4                       1.0                       0.0                0.0   \n",
       "\n",
       "   postal_code_46168  postal_code_46324  postal_code_46360  postal_code_46373  \\\n",
       "0                0.0                0.0                0.0                0.0   \n",
       "1                0.0                0.0                0.0                0.0   \n",
       "2                0.0                0.0                0.0                0.0   \n",
       "3                0.0                0.0                0.0                0.0   \n",
       "4                0.0                0.0                0.0                0.0   \n",
       "\n",
       "   postal_code_47804  postal_code_47847  postal_code_47862  ...  \\\n",
       "0                0.0                0.0                0.0  ...   \n",
       "1                0.0                0.0                0.0  ...   \n",
       "2                0.0                0.0                0.0  ...   \n",
       "3                0.0                0.0                0.0  ...   \n",
       "4                0.0                0.0                0.0  ...   \n",
       "\n",
       "   high_school_district_VALM  high_school_district_WAS3  \\\n",
       "0                        0.0                        0.0   \n",
       "1                        0.0                        0.0   \n",
       "2                        0.0                        0.0   \n",
       "3                        0.0                        0.0   \n",
       "4                        0.0                        0.0   \n",
       "\n",
       "   high_school_district_WATE  high_school_district_WEBS  \\\n",
       "0                        0.0                        0.0   \n",
       "1                        0.0                        0.0   \n",
       "2                        0.0                        0.0   \n",
       "3                        0.0                        0.0   \n",
       "4                        0.0                        0.0   \n",
       "\n",
       "   high_school_district_WENT  high_school_district_keno  \\\n",
       "0                        0.0                        0.0   \n",
       "1                        0.0                        0.0   \n",
       "2                        0.0                        0.0   \n",
       "3                        0.0                        0.0   \n",
       "4                        0.0                        0.0   \n",
       "\n",
       "   high_school_district_kenos  high_school_district_salem  \\\n",
       "0                         0.0                         0.0   \n",
       "1                         0.0                         0.0   \n",
       "2                         0.0                         0.0   \n",
       "3                         0.0                         0.0   \n",
       "4                         0.0                         0.0   \n",
       "\n",
       "   waterfront_yn_False  waterfront_yn_True  \n",
       "0                  0.0                 1.0  \n",
       "1                  0.0                 1.0  \n",
       "2                  0.0                 1.0  \n",
       "3                  0.0                 1.0  \n",
       "4                  0.0                 1.0  \n",
       "\n",
       "[5 rows x 2337 columns]"
      ]
     },
     "execution_count": 71,
     "metadata": {},
     "output_type": "execute_result"
    }
   ],
   "source": [
    "from sklearn.preprocessing import OneHotEncoder\n",
    "\n",
    "ohe = OneHotEncoder(categories='auto')\n",
    "feature_arr = ohe.fit_transform(df_cat).toarray()\n",
    "feature_labels = ohe.get_feature_names_out()\n",
    "df_cat_encoded = pd.DataFrame(feature_arr, columns=feature_labels)\n",
    "df_cat_encoded.head()"
   ]
  },
  {
   "cell_type": "code",
   "execution_count": 72,
   "id": "2a27811f-518c-43a0-9daf-9ea1b84006ce",
   "metadata": {},
   "outputs": [],
   "source": [
    "df_features = pd.concat([df_num,df_cat_encoded], axis = 1)"
   ]
  },
  {
   "cell_type": "code",
   "execution_count": 75,
   "id": "93c20253-70f0-446a-803d-d8e77ec57beb",
   "metadata": {},
   "outputs": [
    {
     "name": "stdout",
     "output_type": "stream",
     "text": [
      "<class 'pandas.core.frame.DataFrame'>\n",
      "RangeIndex: 400040 entries, 0 to 400039\n",
      "Columns: 2350 entries, original_list_price to waterfront_yn_True\n",
      "dtypes: float64(2343), int64(7)\n",
      "memory usage: 7.0 GB\n"
     ]
    }
   ],
   "source": [
    "df_features.info()"
   ]
  },
  {
   "cell_type": "code",
   "execution_count": 76,
   "id": "5f8cf5eb-3669-4fc2-ae38-d675a0cd3cbb",
   "metadata": {},
   "outputs": [
    {
     "name": "stdout",
     "output_type": "stream",
     "text": [
      "<class 'pandas.core.frame.DataFrame'>\n",
      "RangeIndex: 400040 entries, 0 to 400039\n",
      "Data columns (total 1 columns):\n",
      " #   Column          Non-Null Count   Dtype \n",
      "---  ------          --------------   ----- \n",
      " 0   public_remarks  400040 non-null  string\n",
      "dtypes: string(1)\n",
      "memory usage: 3.1 MB\n"
     ]
    }
   ],
   "source": [
    "df_text.info()"
   ]
  },
  {
   "cell_type": "code",
   "execution_count": 233,
   "id": "9e79dacd-1222-4d63-83f2-beeee2578819",
   "metadata": {},
   "outputs": [
    {
     "data": {
      "text/plain": [
       "False"
      ]
     },
     "execution_count": 233,
     "metadata": {},
     "output_type": "execute_result"
    }
   ],
   "source": [
    "df_features.isnull().values.any()"
   ]
  },
  {
   "cell_type": "code",
   "execution_count": 260,
   "id": "59b683fc-6ee1-4ee9-a378-d835a180dd22",
   "metadata": {},
   "outputs": [
    {
     "name": "stdout",
     "output_type": "stream",
     "text": [
      "False False\n"
     ]
    }
   ],
   "source": [
    "from torch.utils.data import DataLoader\n",
    "from sklearn.model_selection import train_test_split\n",
    "from sklearn.preprocessing import MinMaxScaler, StandardScaler\n",
    "\n",
    "BATCH_SIZE = 64\n",
    "\n",
    "X_train, X_test, y_train, y_test = train_test_split(df_features, df_target, test_size=0.33)\n",
    "\n",
    "min_max_scale = MinMaxScaler()\n",
    "X_train[num_cols] = min_max_scale.fit_transform(X_train[num_cols])\n",
    "X_test[num_cols] = min_max_scale.transform(X_test[num_cols])\n",
    "\n",
    "print(X_train.isnull().values.any(),X_test.isnull().values.any())\n",
    "\n",
    "X_train = torch.from_numpy(X_train.values).type(torch.float)\n",
    "X_test = torch.from_numpy(X_test.values).type(torch.float)\n",
    "y_train = torch.from_numpy(y_train.values).type(torch.float)\n",
    "y_test = torch.from_numpy(y_test.values).type(torch.float)"
   ]
  },
  {
   "cell_type": "code",
   "execution_count": 261,
   "id": "6f0bf64c-ee2f-479a-afef-3e0b411dd415",
   "metadata": {},
   "outputs": [
    {
     "data": {
      "text/plain": [
       "(torch.Size([268026, 2350]),\n",
       " torch.Size([132014, 2350]),\n",
       " torch.Size([268026, 1]),\n",
       " torch.Size([132014, 1]))"
      ]
     },
     "execution_count": 261,
     "metadata": {},
     "output_type": "execute_result"
    }
   ],
   "source": [
    "X_train.shape, X_test.shape, y_train.shape, y_test.shape"
   ]
  },
  {
   "cell_type": "code",
   "execution_count": 262,
   "id": "32f6a40d-d2c0-464e-b981-b8fab5ab7bb0",
   "metadata": {},
   "outputs": [],
   "source": [
    "train_data = list(zip(X_train,y_train))\n",
    "test_data = list(zip(X_test,y_test))"
   ]
  },
  {
   "cell_type": "code",
   "execution_count": 263,
   "id": "9a2db91b-ac81-4f88-8d15-c509840fc747",
   "metadata": {},
   "outputs": [],
   "source": [
    "train_dataloader = torch.utils.data.DataLoader(train_data, shuffle=True, batch_size=BATCH_SIZE)\n",
    "test_dataloader = torch.utils.data.DataLoader(test_data, shuffle=True, batch_size=BATCH_SIZE)"
   ]
  },
  {
   "cell_type": "code",
   "execution_count": 264,
   "id": "70d8371f-756b-4b8c-9257-a2bef68f5d33",
   "metadata": {},
   "outputs": [
    {
     "data": {
      "text/plain": [
       "(torch.Size([64, 2350]), torch.Size([64, 1]))"
      ]
     },
     "execution_count": 264,
     "metadata": {},
     "output_type": "execute_result"
    }
   ],
   "source": [
    "tmp_x, tmp_y, = next(iter(train_dataloader))\n",
    "tmp_x.shape,tmp_y.shape"
   ]
  },
  {
   "cell_type": "code",
   "execution_count": 265,
   "id": "c259b798-f715-47a5-a349-065fd2e5db6c",
   "metadata": {},
   "outputs": [],
   "source": [
    "input_shape = tmp_x.shape[-1]\n",
    "output_shape = 1"
   ]
  },
  {
   "cell_type": "code",
   "execution_count": 288,
   "id": "16461709-6032-4f8c-8564-b23565fc83c0",
   "metadata": {},
   "outputs": [],
   "source": [
    "class RealEstatePredictor(nn.Module):\n",
    "    def __init__(self, input_shape: int, hidden_units_1: int, hidden_units_2: int, output_shape: int, p: float):\n",
    "        super().__init__()\n",
    "        self.linear1 = nn.Linear(in_features=input_shape, out_features=hidden_units_1)\n",
    "        self.linear2 = nn.Linear(in_features=hidden_units_1, out_features=hidden_units_2)\n",
    "        # self.dropout1 = nn.Dropout(p=p)\n",
    "        self.hidden_act = nn.ReLU()\n",
    "        self.linear3 = nn.Linear(in_features=hidden_units_2, out_features=output_shape)\n",
    "    \n",
    "    def forward(self, x):\n",
    "        x = self.linear1(x)\n",
    "        x = self.linear2(x)\n",
    "        # x = self.dropout1(x)\n",
    "        x = self.hidden_act(x)\n",
    "        x = self.linear3(x)\n",
    "        return x"
   ]
  },
  {
   "cell_type": "code",
   "execution_count": 289,
   "id": "0be73893-626b-45a2-b59a-008df5025b24",
   "metadata": {},
   "outputs": [],
   "source": [
    "def weights_init_uniform_rule(m):\n",
    "    classname = m.__class__.__name__\n",
    "    # for every Linear layer in a model..\n",
    "    if classname.find('Linear') != -1:\n",
    "        # get the number of the inputs\n",
    "        n = m.in_features\n",
    "        y = 1.0/np.sqrt(n)\n",
    "        m.weight.data.uniform_(-y, y)\n",
    "        m.bias.data.fill_(0)"
   ]
  },
  {
   "cell_type": "code",
   "execution_count": 295,
   "id": "2e5b590e-ae0a-4034-85b9-743d9d17aa39",
   "metadata": {},
   "outputs": [
    {
     "data": {
      "text/plain": [
       "RealEstatePredictor(\n",
       "  (linear1): Linear(in_features=2350, out_features=32, bias=True)\n",
       "  (linear2): Linear(in_features=32, out_features=32, bias=True)\n",
       "  (hidden_act): ReLU()\n",
       "  (linear3): Linear(in_features=32, out_features=1, bias=True)\n",
       ")"
      ]
     },
     "execution_count": 295,
     "metadata": {},
     "output_type": "execute_result"
    }
   ],
   "source": [
    "model_0 = RealEstatePredictor(input_shape=input_shape,\n",
    "    hidden_units_1=32, # how many units in the hiden layer\n",
    "    hidden_units_2=32, # how many units in the hiden layer\n",
    "    output_shape=output_shape, # one for every class\n",
    "    p = .5\n",
    ")\n",
    "model_0.apply(weights_init_uniform_rule)\n",
    "model_0.to(device)"
   ]
  },
  {
   "cell_type": "code",
   "execution_count": 296,
   "id": "b7b71031-cd72-4b92-aa93-6d8fc727c341",
   "metadata": {},
   "outputs": [
    {
     "data": {
      "text/plain": [
       "OrderedDict([('linear1.weight',\n",
       "              tensor([[-1.5488e-02,  7.3230e-03,  1.1165e-02,  ...,  1.0597e-02,\n",
       "                       -1.0037e-02,  3.5830e-03],\n",
       "                      [ 9.3376e-03,  2.0170e-02,  1.4258e-03,  ...,  1.4375e-02,\n",
       "                        1.5698e-02,  7.0407e-03],\n",
       "                      [ 7.3945e-03,  8.5566e-03,  1.9269e-02,  ...,  8.9222e-03,\n",
       "                       -9.8756e-03,  1.8247e-03],\n",
       "                      ...,\n",
       "                      [-1.2071e-02,  3.4852e-03,  1.9877e-02,  ...,  4.3430e-03,\n",
       "                       -1.2909e-02, -1.5038e-02],\n",
       "                      [-4.2998e-03, -2.8140e-03,  9.2278e-03,  ...,  1.1798e-02,\n",
       "                       -6.4924e-05, -1.0255e-02],\n",
       "                      [ 1.3021e-02, -6.4639e-03,  1.6056e-02,  ...,  1.5052e-02,\n",
       "                       -1.4603e-02,  1.6169e-02]])),\n",
       "             ('linear1.bias',\n",
       "              tensor([0., 0., 0., 0., 0., 0., 0., 0., 0., 0., 0., 0., 0., 0., 0., 0., 0., 0., 0., 0., 0., 0., 0., 0.,\n",
       "                      0., 0., 0., 0., 0., 0., 0., 0.])),\n",
       "             ('linear2.weight',\n",
       "              tensor([[-0.0189, -0.1422,  0.0346,  ...,  0.1448,  0.0086,  0.0944],\n",
       "                      [ 0.0970, -0.1712, -0.1074,  ...,  0.0679, -0.1033,  0.0493],\n",
       "                      [ 0.1192, -0.0301, -0.0507,  ...,  0.1484, -0.1024,  0.1358],\n",
       "                      ...,\n",
       "                      [ 0.0662, -0.1503,  0.0254,  ..., -0.1081,  0.0892, -0.1764],\n",
       "                      [-0.1448, -0.0453,  0.1517,  ...,  0.1051, -0.1285, -0.0421],\n",
       "                      [ 0.0264,  0.1023, -0.0547,  ..., -0.0308,  0.0654, -0.1712]])),\n",
       "             ('linear2.bias',\n",
       "              tensor([0., 0., 0., 0., 0., 0., 0., 0., 0., 0., 0., 0., 0., 0., 0., 0., 0., 0., 0., 0., 0., 0., 0., 0.,\n",
       "                      0., 0., 0., 0., 0., 0., 0., 0.])),\n",
       "             ('linear3.weight',\n",
       "              tensor([[ 0.0010, -0.0289,  0.0550, -0.0687,  0.1698,  0.0656,  0.0879, -0.1396,\n",
       "                        0.0272,  0.0749,  0.0500, -0.0033,  0.0615,  0.0041,  0.0684, -0.0451,\n",
       "                       -0.1086,  0.1278, -0.0574,  0.0305,  0.0784, -0.0032, -0.1655, -0.0437,\n",
       "                       -0.0726,  0.1297, -0.1402, -0.0917,  0.0168,  0.0141,  0.0132,  0.1368]])),\n",
       "             ('linear3.bias', tensor([0.]))])"
      ]
     },
     "execution_count": 296,
     "metadata": {},
     "output_type": "execute_result"
    }
   ],
   "source": [
    "model_0.state_dict()"
   ]
  },
  {
   "cell_type": "code",
   "execution_count": 297,
   "id": "712b13a3-807b-47cc-8ee5-647a27eb1d15",
   "metadata": {},
   "outputs": [],
   "source": [
    "loss_fn = nn.MSELoss()\n",
    "optimizer = torch.optim.SGD(params=model_0.parameters(), lr=0.01)"
   ]
  },
  {
   "cell_type": "code",
   "execution_count": 298,
   "id": "b27f032d-e363-4876-9fc6-eaf9adacbad2",
   "metadata": {},
   "outputs": [],
   "source": [
    "from timeit import default_timer as timer \n",
    "def print_train_time(start: float, end: float, device: torch.device = None):\n",
    "    \"\"\"Prints difference between start and end time.\n",
    "\n",
    "    Args:\n",
    "        start (float): Start time of computation (preferred in timeit format). \n",
    "        end (float): End time of computation.\n",
    "        device ([type], optional): Device that compute is running on. Defaults to None.\n",
    "\n",
    "    Returns:\n",
    "        float: time between start and end in seconds (higher is longer).\n",
    "    \"\"\"\n",
    "    total_time = end - start\n",
    "    print(f\"Train time on {device}: {total_time:.3f} seconds\")\n",
    "    return total_time"
   ]
  },
  {
   "cell_type": "code",
   "execution_count": 299,
   "id": "3b488c7e-ce2b-4862-af98-2e87f2fe4669",
   "metadata": {},
   "outputs": [
    {
     "name": "stderr",
     "output_type": "stream",
     "text": [
      "  0%|                                                     | 0/5 [00:00<?, ?it/s]"
     ]
    },
    {
     "name": "stdout",
     "output_type": "stream",
     "text": [
      "Epoch: 0\n",
      "-------\n",
      "Looked at 0/268026 samples\n",
      "tensor(2.8877e+11, grad_fn=<MseLossBackward0>) tensor(2.8877e+11, grad_fn=<AddBackward0>) tensor([[ 0.0040],\n",
      "        [ 0.0089],\n",
      "        [ 0.0056],\n",
      "        [ 0.0019],\n",
      "        [-0.0026]], grad_fn=<SliceBackward0>)\n",
      "Looked at 25600/268026 samples\n",
      "tensor(1.9408e+11, grad_fn=<MseLossBackward0>) tensor(9.7782e+13, grad_fn=<AddBackward0>) tensor([[3008.8982],\n",
      "        [3356.0273],\n",
      "        [2501.3608],\n",
      "        [2841.8584],\n",
      "        [3031.6113]], grad_fn=<SliceBackward0>)\n",
      "Looked at 51200/268026 samples\n",
      "tensor(2.2613e+11, grad_fn=<MseLossBackward0>) tensor(1.9205e+14, grad_fn=<AddBackward0>) tensor([[22095.7949],\n",
      "        [20419.7266],\n",
      "        [22700.3691],\n",
      "        [21937.7051],\n",
      "        [22505.0859]], grad_fn=<SliceBackward0>)\n",
      "Looked at 76800/268026 samples\n",
      "tensor(1.5161e+11, grad_fn=<MseLossBackward0>) tensor(2.8217e+14, grad_fn=<AddBackward0>) tensor([[77227.1250],\n",
      "        [84475.1016],\n",
      "        [75719.0469],\n",
      "        [85018.2188],\n",
      "        [78839.7188]], grad_fn=<SliceBackward0>)\n",
      "Looked at 102400/268026 samples\n",
      "tensor(1.0543e+11, grad_fn=<MseLossBackward0>) tensor(3.4814e+14, grad_fn=<AddBackward0>) tensor([[186035.2188],\n",
      "        [184622.0156],\n",
      "        [185710.2188],\n",
      "        [182942.5469],\n",
      "        [181874.7188]], grad_fn=<SliceBackward0>)\n",
      "Looked at 128000/268026 samples\n",
      "tensor(1.0921e+11, grad_fn=<MseLossBackward0>) tensor(3.9359e+14, grad_fn=<AddBackward0>) tensor([[365459.3438],\n",
      "        [368796.4688],\n",
      "        [354503.9688],\n",
      "        [365074.9688],\n",
      "        [329707.6562]], grad_fn=<SliceBackward0>)\n",
      "Looked at 153600/268026 samples\n",
      "tensor(5.9273e+10, grad_fn=<MseLossBackward0>) tensor(4.3342e+14, grad_fn=<AddBackward0>) tensor([[368342.8438],\n",
      "        [360892.7812],\n",
      "        [361056.0312],\n",
      "        [410897.4375],\n",
      "        [357483.5312]], grad_fn=<SliceBackward0>)\n",
      "Looked at 179200/268026 samples\n",
      "tensor(1.9210e+11, grad_fn=<MseLossBackward0>) tensor(4.7159e+14, grad_fn=<AddBackward0>) tensor([[255544.5938],\n",
      "        [348806.4688],\n",
      "        [468511.2188],\n",
      "        [359609.9688],\n",
      "        [344524.4062]], grad_fn=<SliceBackward0>)\n",
      "Looked at 204800/268026 samples\n",
      "tensor(6.2636e+10, grad_fn=<MseLossBackward0>) tensor(5.1248e+14, grad_fn=<AddBackward0>) tensor([[355975.0000],\n",
      "        [332757.9062],\n",
      "        [294574.4062],\n",
      "        [407240.1562],\n",
      "        [477841.0312]], grad_fn=<SliceBackward0>)\n",
      "Looked at 230400/268026 samples\n",
      "tensor(4.1951e+10, grad_fn=<MseLossBackward0>) tensor(5.6152e+14, grad_fn=<AddBackward0>) tensor([[353070.4062],\n",
      "        [364200.5938],\n",
      "        [263445.8750],\n",
      "        [410654.5312],\n",
      "        [376851.4375]], grad_fn=<SliceBackward0>)\n",
      "Looked at 256000/268026 samples\n",
      "tensor(2.8081e+10, grad_fn=<MseLossBackward0>) tensor(6.0070e+14, grad_fn=<AddBackward0>) tensor([[433587.4688],\n",
      "        [360774.8438],\n",
      "        [198272.7188],\n",
      "        [362325.5938],\n",
      "        [360921.0312]], grad_fn=<SliceBackward0>)\n"
     ]
    },
    {
     "name": "stderr",
     "output_type": "stream",
     "text": [
      " 20%|█████████                                    | 1/5 [00:45<03:03, 45.77s/it]"
     ]
    },
    {
     "name": "stdout",
     "output_type": "stream",
     "text": [
      "\n",
      "Train loss: 147451396096.00000 | Test loss: 106063806464.00000\n",
      "Epoch: 1\n",
      "-------\n",
      "Looked at 0/268026 samples\n",
      "tensor(1.7398e+11, grad_fn=<MseLossBackward0>) tensor(1.7398e+11, grad_fn=<AddBackward0>) tensor([[458067.3125],\n",
      "        [275884.6875],\n",
      "        [352571.8438],\n",
      "        [344799.1250],\n",
      "        [412028.9062]], grad_fn=<SliceBackward0>)\n",
      "Looked at 25600/268026 samples\n",
      "tensor(4.0369e+10, grad_fn=<MseLossBackward0>) tensor(4.2016e+13, grad_fn=<AddBackward0>) tensor([[358421.0625],\n",
      "        [385880.0938],\n",
      "        [311426.2500],\n",
      "        [410702.7812],\n",
      "        [268939.5000]], grad_fn=<SliceBackward0>)\n",
      "Looked at 51200/268026 samples\n",
      "tensor(1.1924e+11, grad_fn=<MseLossBackward0>) tensor(7.4987e+13, grad_fn=<AddBackward0>) tensor([[444523.5938],\n",
      "        [396547.5938],\n",
      "        [419107.5938],\n",
      "        [321589.3438],\n",
      "        [313249.9688]], grad_fn=<SliceBackward0>)\n",
      "Looked at 76800/268026 samples\n",
      "tensor(6.0660e+10, grad_fn=<MseLossBackward0>) tensor(1.1444e+14, grad_fn=<AddBackward0>) tensor([[352709.4062],\n",
      "        [513279.4062],\n",
      "        [325771.6562],\n",
      "        [380117.9688],\n",
      "        [350814.3750]], grad_fn=<SliceBackward0>)\n",
      "Looked at 102400/268026 samples\n",
      "tensor(5.0600e+10, grad_fn=<MseLossBackward0>) tensor(1.6464e+14, grad_fn=<AddBackward0>) tensor([[357132.9062],\n",
      "        [259172.7656],\n",
      "        [324233.5938],\n",
      "        [442180.5938],\n",
      "        [397994.2812]], grad_fn=<SliceBackward0>)\n",
      "Looked at 128000/268026 samples\n",
      "tensor(7.8430e+10, grad_fn=<MseLossBackward0>) tensor(2.0234e+14, grad_fn=<AddBackward0>) tensor([[380685.6562],\n",
      "        [307878.6562],\n",
      "        [573750.5625],\n",
      "        [428081.9375],\n",
      "        [403531.1562]], grad_fn=<SliceBackward0>)\n",
      "Looked at 153600/268026 samples\n",
      "tensor(6.5459e+10, grad_fn=<MseLossBackward0>) tensor(2.3496e+14, grad_fn=<AddBackward0>) tensor([[377047.9062],\n",
      "        [425132.0000],\n",
      "        [513838.8750],\n",
      "        [430835.2188],\n",
      "        [285617.5938]], grad_fn=<SliceBackward0>)\n",
      "Looked at 179200/268026 samples\n",
      "tensor(5.8790e+10, grad_fn=<MseLossBackward0>) tensor(2.7094e+14, grad_fn=<AddBackward0>) tensor([[346915.9688],\n",
      "        [204580.0000],\n",
      "        [298280.2812],\n",
      "        [355053.8750],\n",
      "        [334317.2812]], grad_fn=<SliceBackward0>)\n",
      "Looked at 204800/268026 samples\n",
      "tensor(2.1427e+11, grad_fn=<MseLossBackward0>) tensor(3.0897e+14, grad_fn=<AddBackward0>) tensor([[419460.3750],\n",
      "        [352808.0312],\n",
      "        [367315.0938],\n",
      "        [369608.9688],\n",
      "        [374078.7188]], grad_fn=<SliceBackward0>)\n",
      "Looked at 230400/268026 samples\n",
      "tensor(4.5147e+10, grad_fn=<MseLossBackward0>) tensor(3.4823e+14, grad_fn=<AddBackward0>) tensor([[438338.7188],\n",
      "        [299039.5938],\n",
      "        [304291.5938],\n",
      "        [494219.5625],\n",
      "        [418211.8438]], grad_fn=<SliceBackward0>)\n",
      "Looked at 256000/268026 samples\n",
      "tensor(3.9316e+10, grad_fn=<MseLossBackward0>) tensor(3.7791e+14, grad_fn=<AddBackward0>) tensor([[453158.8438],\n",
      "        [408992.9062],\n",
      "        [347964.2188],\n",
      "        [204750.7812],\n",
      "        [449976.2500]], grad_fn=<SliceBackward0>)\n"
     ]
    },
    {
     "name": "stderr",
     "output_type": "stream",
     "text": [
      " 40%|██████████████████                           | 2/5 [01:26<02:07, 42.59s/it]"
     ]
    },
    {
     "name": "stdout",
     "output_type": "stream",
     "text": [
      "\n",
      "Train loss: 93838999552.00000 | Test loss: 88884338688.00000\n",
      "Epoch: 2\n",
      "-------\n",
      "Looked at 0/268026 samples\n",
      "tensor(2.2224e+10, grad_fn=<MseLossBackward0>) tensor(2.2224e+10, grad_fn=<AddBackward0>) tensor([[372166.9062],\n",
      "        [416228.0312],\n",
      "        [460024.4062],\n",
      "        [288673.8438],\n",
      "        [361370.9688]], grad_fn=<SliceBackward0>)\n",
      "Looked at 25600/268026 samples\n",
      "tensor(6.0449e+10, grad_fn=<MseLossBackward0>) tensor(3.1411e+13, grad_fn=<AddBackward0>) tensor([[370970.8438],\n",
      "        [326776.0938],\n",
      "        [263152.0312],\n",
      "        [536905.4375],\n",
      "        [189663.9688]], grad_fn=<SliceBackward0>)\n",
      "Looked at 51200/268026 samples\n",
      "tensor(2.2897e+10, grad_fn=<MseLossBackward0>) tensor(6.7349e+13, grad_fn=<AddBackward0>) tensor([[327162.9062],\n",
      "        [470014.3125],\n",
      "        [171158.8906],\n",
      "        [608174.9375],\n",
      "        [304657.0312]], grad_fn=<SliceBackward0>)\n",
      "Looked at 76800/268026 samples\n",
      "tensor(8.2792e+10, grad_fn=<MseLossBackward0>) tensor(9.8115e+13, grad_fn=<AddBackward0>) tensor([[227423.5625],\n",
      "        [217246.1250],\n",
      "        [397833.7500],\n",
      "        [493264.5625],\n",
      "        [272910.5938]], grad_fn=<SliceBackward0>)\n",
      "Looked at 102400/268026 samples\n",
      "tensor(9.0892e+10, grad_fn=<MseLossBackward0>) tensor(1.3054e+14, grad_fn=<AddBackward0>) tensor([[508622.7188],\n",
      "        [368959.0312],\n",
      "        [269345.6250],\n",
      "        [271879.2812],\n",
      "        [536866.3750]], grad_fn=<SliceBackward0>)\n",
      "Looked at 128000/268026 samples\n",
      "tensor(2.0085e+10, grad_fn=<MseLossBackward0>) tensor(1.5825e+14, grad_fn=<AddBackward0>) tensor([[172815.4688],\n",
      "        [454180.4062],\n",
      "        [372499.3438],\n",
      "        [480810.1250],\n",
      "        [390898.6875]], grad_fn=<SliceBackward0>)\n",
      "Looked at 153600/268026 samples\n",
      "tensor(4.1086e+10, grad_fn=<MseLossBackward0>) tensor(1.8502e+14, grad_fn=<AddBackward0>) tensor([[424057.7188],\n",
      "        [454378.7812],\n",
      "        [213107.7656],\n",
      "        [314894.9688],\n",
      "        [467842.5000]], grad_fn=<SliceBackward0>)\n",
      "Looked at 179200/268026 samples\n",
      "tensor(1.6399e+10, grad_fn=<MseLossBackward0>) tensor(2.1136e+14, grad_fn=<AddBackward0>) tensor([[426417.5312],\n",
      "        [166411.3750],\n",
      "        [377105.8438],\n",
      "        [385110.5312],\n",
      "        [268968.8438]], grad_fn=<SliceBackward0>)\n",
      "Looked at 204800/268026 samples\n",
      "tensor(3.0429e+10, grad_fn=<MseLossBackward0>) tensor(2.3580e+14, grad_fn=<AddBackward0>) tensor([[342247.7812],\n",
      "        [262129.0000],\n",
      "        [261254.6562],\n",
      "        [142410.9375],\n",
      "        [660847.0625]], grad_fn=<SliceBackward0>)\n",
      "Looked at 230400/268026 samples\n",
      "tensor(2.8706e+10, grad_fn=<MseLossBackward0>) tensor(2.6990e+14, grad_fn=<AddBackward0>) tensor([[201970.4219],\n",
      "        [341832.2812],\n",
      "        [225941.7188],\n",
      "        [253746.3438],\n",
      "        [268405.9375]], grad_fn=<SliceBackward0>)\n",
      "Looked at 256000/268026 samples\n",
      "tensor(8.5382e+10, grad_fn=<MseLossBackward0>) tensor(2.9714e+14, grad_fn=<AddBackward0>) tensor([[791228.3750],\n",
      "        [177013.8438],\n",
      "        [187762.3906],\n",
      "        [329879.4062],\n",
      "        [154815.8438]], grad_fn=<SliceBackward0>)\n"
     ]
    },
    {
     "name": "stderr",
     "output_type": "stream",
     "text": [
      " 60%|███████████████████████████                  | 3/5 [02:07<01:23, 41.91s/it]"
     ]
    },
    {
     "name": "stdout",
     "output_type": "stream",
     "text": [
      "\n",
      "Train loss: 73887891456.00000 | Test loss: 69760270336.00000\n",
      "Epoch: 3\n",
      "-------\n",
      "Looked at 0/268026 samples\n",
      "tensor(5.9812e+10, grad_fn=<MseLossBackward0>) tensor(5.9812e+10, grad_fn=<AddBackward0>) tensor([[250340.7812],\n",
      "        [265524.4062],\n",
      "        [493265.9062],\n",
      "        [290584.8438],\n",
      "        [271380.6250]], grad_fn=<SliceBackward0>)\n",
      "Looked at 25600/268026 samples\n",
      "tensor(6.7118e+10, grad_fn=<MseLossBackward0>) tensor(3.0463e+13, grad_fn=<AddBackward0>) tensor([[481461.1562],\n",
      "        [283481.9062],\n",
      "        [314323.9062],\n",
      "        [995748.8125],\n",
      "        [195743.4062]], grad_fn=<SliceBackward0>)\n",
      "Looked at 51200/268026 samples\n",
      "tensor(4.6707e+10, grad_fn=<MseLossBackward0>) tensor(5.2291e+13, grad_fn=<AddBackward0>) tensor([[358248.7500],\n",
      "        [428057.0312],\n",
      "        [254908.2656],\n",
      "        [472849.8438],\n",
      "        [511533.9688]], grad_fn=<SliceBackward0>)\n",
      "Looked at 76800/268026 samples\n",
      "tensor(1.6485e+10, grad_fn=<MseLossBackward0>) tensor(7.9466e+13, grad_fn=<AddBackward0>) tensor([[811031.6875],\n",
      "        [300234.8438],\n",
      "        [237992.2812],\n",
      "        [210124.6250],\n",
      "        [329810.0938]], grad_fn=<SliceBackward0>)\n",
      "Looked at 102400/268026 samples\n",
      "tensor(1.8197e+10, grad_fn=<MseLossBackward0>) tensor(1.0671e+14, grad_fn=<AddBackward0>) tensor([[239418.7500],\n",
      "        [357302.9375],\n",
      "        [227340.9375],\n",
      "        [185772.7969],\n",
      "        [233574.4844]], grad_fn=<SliceBackward0>)\n",
      "Looked at 128000/268026 samples\n",
      "tensor(2.5553e+10, grad_fn=<MseLossBackward0>) tensor(1.3690e+14, grad_fn=<AddBackward0>) tensor([[347695.1562],\n",
      "        [546981.6875],\n",
      "        [304176.1562],\n",
      "        [294646.2188],\n",
      "        [291897.1250]], grad_fn=<SliceBackward0>)\n",
      "Looked at 153600/268026 samples\n",
      "tensor(4.0948e+10, grad_fn=<MseLossBackward0>) tensor(1.5717e+14, grad_fn=<AddBackward0>) tensor([[ 382461.7188],\n",
      "        [ 255245.2812],\n",
      "        [ 501769.4688],\n",
      "        [ 330571.4062],\n",
      "        [1386952.5000]], grad_fn=<SliceBackward0>)\n",
      "Looked at 179200/268026 samples\n",
      "tensor(2.0598e+10, grad_fn=<MseLossBackward0>) tensor(1.7856e+14, grad_fn=<AddBackward0>) tensor([[169898.7500],\n",
      "        [582475.3125],\n",
      "        [263574.0625],\n",
      "        [351118.8438],\n",
      "        [443976.4688]], grad_fn=<SliceBackward0>)\n",
      "Looked at 204800/268026 samples\n",
      "tensor(2.8861e+10, grad_fn=<MseLossBackward0>) tensor(2.0064e+14, grad_fn=<AddBackward0>) tensor([[ 92566.6172],\n",
      "        [497239.1562],\n",
      "        [ 60502.4844],\n",
      "        [588141.1250],\n",
      "        [195051.6250]], grad_fn=<SliceBackward0>)\n",
      "Looked at 230400/268026 samples\n",
      "tensor(3.1100e+11, grad_fn=<MseLossBackward0>) tensor(2.2063e+14, grad_fn=<AddBackward0>) tensor([[952200.4375],\n",
      "        [ 79936.0234],\n",
      "        [871760.6250],\n",
      "        [475937.9062],\n",
      "        [251591.1250]], grad_fn=<SliceBackward0>)\n",
      "Looked at 256000/268026 samples\n",
      "tensor(2.1838e+11, grad_fn=<MseLossBackward0>) tensor(2.3940e+14, grad_fn=<AddBackward0>) tensor([[277995.1875],\n",
      "        [299032.4688],\n",
      "        [381059.1875],\n",
      "        [440165.2188],\n",
      "        [213074.0625]], grad_fn=<SliceBackward0>)\n"
     ]
    },
    {
     "name": "stderr",
     "output_type": "stream",
     "text": [
      " 80%|████████████████████████████████████         | 4/5 [02:45<00:40, 40.41s/it]"
     ]
    },
    {
     "name": "stdout",
     "output_type": "stream",
     "text": [
      "\n",
      "Train loss: 59735916544.00000 | Test loss: 60367044608.00000\n",
      "Epoch: 4\n",
      "-------\n",
      "Looked at 0/268026 samples\n",
      "tensor(7.0982e+10, grad_fn=<MseLossBackward0>) tensor(7.0982e+10, grad_fn=<AddBackward0>) tensor([[5.1486e+05],\n",
      "        [2.4373e+05],\n",
      "        [4.8790e+05],\n",
      "        [2.8820e+05],\n",
      "        [1.6787e+00]], grad_fn=<SliceBackward0>)\n",
      "Looked at 25600/268026 samples\n",
      "tensor(2.4360e+10, grad_fn=<MseLossBackward0>) tensor(2.7617e+13, grad_fn=<AddBackward0>) tensor([[454031.6562],\n",
      "        [555307.8750],\n",
      "        [271190.0312],\n",
      "        [104670.4062],\n",
      "        [491036.1562]], grad_fn=<SliceBackward0>)\n",
      "Looked at 51200/268026 samples\n",
      "tensor(1.5383e+10, grad_fn=<MseLossBackward0>) tensor(4.8252e+13, grad_fn=<AddBackward0>) tensor([[273717.3125],\n",
      "        [457590.5312],\n",
      "        [224085.9375],\n",
      "        [140063.2031],\n",
      "        [316277.8125]], grad_fn=<SliceBackward0>)\n",
      "Looked at 76800/268026 samples\n",
      "tensor(1.1748e+10, grad_fn=<MseLossBackward0>) tensor(7.0679e+13, grad_fn=<AddBackward0>) tensor([[340468.7188],\n",
      "        [289296.2812],\n",
      "        [546381.3125],\n",
      "        [ 96411.3594],\n",
      "        [300676.0625]], grad_fn=<SliceBackward0>)\n",
      "Looked at 102400/268026 samples\n",
      "tensor(1.1553e+10, grad_fn=<MseLossBackward0>) tensor(9.1663e+13, grad_fn=<AddBackward0>) tensor([[321247.4062],\n",
      "        [362435.3438],\n",
      "        [697607.4375],\n",
      "        [381624.0938],\n",
      "        [408507.8750]], grad_fn=<SliceBackward0>)\n",
      "Looked at 128000/268026 samples\n",
      "tensor(5.9475e+09, grad_fn=<MseLossBackward0>) tensor(1.1341e+14, grad_fn=<AddBackward0>) tensor([[356979.4688],\n",
      "        [129465.2812],\n",
      "        [444865.2188],\n",
      "        [247278.4219],\n",
      "        [790195.9375]], grad_fn=<SliceBackward0>)\n",
      "Looked at 153600/268026 samples\n",
      "tensor(2.1015e+10, grad_fn=<MseLossBackward0>) tensor(1.3230e+14, grad_fn=<AddBackward0>) tensor([[134372.0000],\n",
      "        [268072.1250],\n",
      "        [229280.7812],\n",
      "        [204156.2188],\n",
      "        [110044.9844]], grad_fn=<SliceBackward0>)\n",
      "Looked at 179200/268026 samples\n",
      "tensor(3.1128e+10, grad_fn=<MseLossBackward0>) tensor(1.5334e+14, grad_fn=<AddBackward0>) tensor([[ 56219.6680],\n",
      "        [481339.9062],\n",
      "        [280972.4688],\n",
      "        [215279.0000],\n",
      "        [616959.5625]], grad_fn=<SliceBackward0>)\n",
      "Looked at 204800/268026 samples\n",
      "tensor(5.1689e+10, grad_fn=<MseLossBackward0>) tensor(1.7318e+14, grad_fn=<AddBackward0>) tensor([[425999.6562],\n",
      "        [349801.6875],\n",
      "        [221316.8906],\n",
      "        [189814.7031],\n",
      "        [375324.9688]], grad_fn=<SliceBackward0>)\n",
      "Looked at 230400/268026 samples\n",
      "tensor(1.9673e+10, grad_fn=<MseLossBackward0>) tensor(1.9316e+14, grad_fn=<AddBackward0>) tensor([[482782.3438],\n",
      "        [357832.4062],\n",
      "        [302067.5625],\n",
      "        [132050.4375],\n",
      "        [151061.5938]], grad_fn=<SliceBackward0>)\n",
      "Looked at 256000/268026 samples\n",
      "tensor(5.0109e+10, grad_fn=<MseLossBackward0>) tensor(2.1343e+14, grad_fn=<AddBackward0>) tensor([[939460.5625],\n",
      "        [334122.3438],\n",
      "        [136366.5156],\n",
      "        [516660.9688],\n",
      "        [273857.2812]], grad_fn=<SliceBackward0>)\n"
     ]
    },
    {
     "name": "stderr",
     "output_type": "stream",
     "text": [
      "100%|█████████████████████████████████████████████| 5/5 [03:22<00:00, 40.51s/it]"
     ]
    },
    {
     "name": "stdout",
     "output_type": "stream",
     "text": [
      "\n",
      "Train loss: 53269274624.00000 | Test loss: 56063520768.00000\n",
      "Train time on cpu: 202.551 seconds\n"
     ]
    },
    {
     "name": "stderr",
     "output_type": "stream",
     "text": [
      "\n"
     ]
    }
   ],
   "source": [
    "# Import tqdm for progress bar\n",
    "from tqdm.auto import tqdm\n",
    "# Set the seed and start the timer\n",
    "train_time_start_on_cpu = timer()\n",
    "\n",
    "epochs = 5\n",
    "\n",
    "for epoch in tqdm(range(epochs)):\n",
    "    print(f\"Epoch: {epoch}\\n-------\")\n",
    "    ### Training\n",
    "    train_loss = 0\n",
    "    # Add a loop to loop through training batches\n",
    "    for batch, (X, y) in enumerate(train_dataloader):\n",
    "        model_0.train() \n",
    "        # 1. Forward pass\n",
    "        y_pred = model_0(X)\n",
    "\n",
    "        # 2. Calculate loss (per batch)\n",
    "        loss = loss_fn(y_pred, y)\n",
    "        train_loss += loss # accumulatively add up the loss per epoch \n",
    "\n",
    "        # 3. Optimizer zero grad\n",
    "        optimizer.zero_grad()\n",
    "\n",
    "        # 4. Loss backward\n",
    "        loss.backward()\n",
    "        \n",
    "        torch.nn.utils.clip_grad_norm_(model_0.parameters(), 5)\n",
    "        \n",
    "        # 5. Optimizer step\n",
    "        optimizer.step()\n",
    "        \n",
    "        if batch % 400 == 0:\n",
    "            # print(train_loss, loss)\n",
    "            print(f\"Looked at {batch * len(X)}/{len(train_dataloader.dataset)} samples\")\n",
    "            print(loss, train_loss, y_pred[:5])\n",
    "\n",
    "    # Divide total train loss by length of train dataloader (average loss per batch per epoch)\n",
    "    train_loss /= len(train_dataloader)\n",
    "    test_loss = 0\n",
    "    model_0.eval()\n",
    "    with torch.inference_mode():\n",
    "        for X, y in test_dataloader:\n",
    "            # 1. Forward pass\n",
    "            test_pred = model_0(X)\n",
    "           \n",
    "            # 2. Calculate loss (accumatively)\n",
    "            test_loss += loss_fn(test_pred, y) # accumulatively add up the loss per epoch\n",
    "\n",
    "        \n",
    "        # Calculations on test metrics need to happen inside torch.inference_mode()\n",
    "        # Divide total test loss by length of test dataloader (per batch)\n",
    "        test_loss /= len(test_dataloader)\n",
    "\n",
    "        # Divide total accuracy by length of test dataloader (per batch)\n",
    "\n",
    "    ## Print out what's happening\n",
    "    print(f\"\\nTrain loss: {train_loss:.5f} | Test loss: {test_loss:.5f}\")\n",
    "\n",
    "# Calculate training time      \n",
    "train_time_end_on_cpu = timer()\n",
    "total_train_time_model_0 = print_train_time(start=train_time_start_on_cpu, \n",
    "                                           end=train_time_end_on_cpu,\n",
    "                                           device=str(next(model_0.parameters()).device))"
   ]
  },
  {
   "cell_type": "code",
   "execution_count": 270,
   "id": "2024dc0f-05bc-4ff3-8d8f-fb1f65186971",
   "metadata": {
    "scrolled": true
   },
   "outputs": [
    {
     "data": {
      "text/plain": [
       "tensor([[0.0120],\n",
       "        [0.0139],\n",
       "        [0.0106],\n",
       "        [0.0110],\n",
       "        [0.0098]], grad_fn=<SliceBackward0>)"
      ]
     },
     "execution_count": 270,
     "metadata": {},
     "output_type": "execute_result"
    }
   ],
   "source": [
    "X, y = next(iter(train_dataloader))\n",
    "X.shape, y.shape\n",
    "model_0.train() \n",
    "y_pred = model_0(X)\n",
    "y_pred[:5]"
   ]
  },
  {
   "cell_type": "code",
   "execution_count": 271,
   "id": "3c52e95b-02fc-4457-8a9e-b6070b56c64b",
   "metadata": {},
   "outputs": [
    {
     "data": {
      "text/plain": [
       "tensor(2.2344e+11, grad_fn=<MseLossBackward0>)"
      ]
     },
     "execution_count": 271,
     "metadata": {},
     "output_type": "execute_result"
    }
   ],
   "source": [
    "loss = loss_fn(y_pred, y)\n",
    "loss"
   ]
  },
  {
   "cell_type": "code",
   "execution_count": 272,
   "id": "120d5ec3-3395-4e67-b3f9-81ce17e516eb",
   "metadata": {},
   "outputs": [],
   "source": [
    "optimizer.zero_grad()"
   ]
  },
  {
   "cell_type": "code",
   "execution_count": 273,
   "id": "52b109e6-da84-49da-9575-ab1141e88f75",
   "metadata": {},
   "outputs": [],
   "source": [
    "loss.backward()"
   ]
  },
  {
   "cell_type": "code",
   "execution_count": 274,
   "id": "ba48ed61-bce4-4df4-a32c-9d1c3927b608",
   "metadata": {},
   "outputs": [],
   "source": [
    "optimizer.step()"
   ]
  },
  {
   "cell_type": "code",
   "execution_count": 275,
   "id": "f3f0581b-88af-486a-8bb2-b57949e72c4c",
   "metadata": {},
   "outputs": [],
   "source": [
    "train_loss = 0\n",
    "train_loss += loss"
   ]
  },
  {
   "cell_type": "code",
   "execution_count": 276,
   "id": "f0f57e5f-2a22-4b19-979f-6b732f5bcf4c",
   "metadata": {},
   "outputs": [
    {
     "data": {
      "text/plain": [
       "tensor(2.2344e+11, grad_fn=<AddBackward0>)"
      ]
     },
     "execution_count": 276,
     "metadata": {},
     "output_type": "execute_result"
    }
   ],
   "source": [
    "train_loss"
   ]
  },
  {
   "cell_type": "code",
   "execution_count": null,
   "id": "0839a70a-7913-46a3-b043-a2edb644efc6",
   "metadata": {},
   "outputs": [],
   "source": []
  },
  {
   "cell_type": "code",
   "execution_count": 104,
   "id": "159cff9b-37da-40b2-9d6a-fe2c6b5cf21b",
   "metadata": {},
   "outputs": [
    {
     "data": {
      "text/plain": [
       "{'model_name': 'RealEstatePredictor', 'model_loss': nan}"
      ]
     },
     "execution_count": 104,
     "metadata": {},
     "output_type": "execute_result"
    }
   ],
   "source": [
    "torch.manual_seed(42)\n",
    "def eval_model(model: torch.nn.Module, \n",
    "               data_loader: torch.utils.data.DataLoader, \n",
    "               loss_fn: torch.nn.Module):\n",
    "    \"\"\"Returns a dictionary containing the results of model predicting on data_loader.\n",
    "\n",
    "    Args:\n",
    "        model (torch.nn.Module): A PyTorch model capable of making predictions on data_loader.\n",
    "        data_loader (torch.utils.data.DataLoader): The target dataset to predict on.\n",
    "        loss_fn (torch.nn.Module): The loss function of model.\n",
    "        accuracy_fn: An accuracy function to compare the models predictions to the truth labels.\n",
    "\n",
    "    Returns:\n",
    "        (dict): Results of model making predictions on data_loader.\n",
    "    \"\"\"\n",
    "    predictions = []\n",
    "    actual = []\n",
    "    loss, acc = 0, 0\n",
    "    model.eval()\n",
    "    with torch.inference_mode():\n",
    "        for X, y in data_loader:\n",
    "            # Make predictions with the model\n",
    "            y_pred = model(X)\n",
    "            predictions.append(y_pred)\n",
    "            actual.append(y)\n",
    "            \n",
    "            # Accumulate the loss and accuracy values per batch\n",
    "            loss += loss_fn(y_pred, y)\n",
    "        \n",
    "        # Scale loss and acc to find the average loss/acc per batch\n",
    "        loss /= len(data_loader)        \n",
    "    return {\"model_name\": model.__class__.__name__, # only works when model was created with a class\n",
    "            \"model_loss\": loss.item()}, predictions, actual\n",
    "\n",
    "# Calculate model 0 results on test dataset\n",
    "model_0_results, predictions, actual = eval_model(model=model_0, data_loader=test_dataloader,\n",
    "    loss_fn=loss_fn\n",
    ")\n",
    "model_0_results"
   ]
  },
  {
   "cell_type": "code",
   "execution_count": 105,
   "id": "d16a8bac-ac6d-4f26-89b8-1051fa7f9ed1",
   "metadata": {},
   "outputs": [
    {
     "data": {
      "text/plain": [
       "2063"
      ]
     },
     "execution_count": 105,
     "metadata": {},
     "output_type": "execute_result"
    }
   ],
   "source": [
    "len(predictions)"
   ]
  },
  {
   "cell_type": "code",
   "execution_count": 106,
   "id": "1a7f22d7-365e-4d4a-add0-daaca073bb79",
   "metadata": {},
   "outputs": [
    {
     "data": {
      "text/plain": [
       "2063"
      ]
     },
     "execution_count": 106,
     "metadata": {},
     "output_type": "execute_result"
    }
   ],
   "source": [
    "len(actual)"
   ]
  },
  {
   "cell_type": "code",
   "execution_count": 107,
   "id": "f7ca365c-71ec-465a-a88a-36eead7bd7fd",
   "metadata": {},
   "outputs": [
    {
     "data": {
      "text/plain": [
       "132014"
      ]
     },
     "execution_count": 107,
     "metadata": {},
     "output_type": "execute_result"
    }
   ],
   "source": [
    "len(X_test)"
   ]
  },
  {
   "cell_type": "code",
   "execution_count": 108,
   "id": "8dd9fccb-8c1d-4a1c-9f02-978e0997b0f6",
   "metadata": {},
   "outputs": [],
   "source": [
    "actual_output = []\n",
    "for raw in actual:\n",
    "    actual_output.extend(raw.flatten().tolist())\n",
    "predictions_output = [] \n",
    "for raw in predictions:\n",
    "    predictions_output.extend(raw.flatten().tolist())"
   ]
  },
  {
   "cell_type": "code",
   "execution_count": 109,
   "id": "ecdd8ac8-ae99-42f5-93ae-d70d5aa60736",
   "metadata": {},
   "outputs": [],
   "source": [
    "df_actual = pd.DataFrame(actual_output,columns=['actual'])\n",
    "df_predictions = pd.DataFrame(predictions_output,columns=['predictions'])\n",
    "\n",
    "df_out = pd.concat([df_actual,df_predictions],axis=1)"
   ]
  },
  {
   "cell_type": "code",
   "execution_count": 110,
   "id": "08a0286c-34dc-4e5c-b5f9-0a8cec2d245c",
   "metadata": {},
   "outputs": [
    {
     "data": {
      "text/html": [
       "<div>\n",
       "<style scoped>\n",
       "    .dataframe tbody tr th:only-of-type {\n",
       "        vertical-align: middle;\n",
       "    }\n",
       "\n",
       "    .dataframe tbody tr th {\n",
       "        vertical-align: top;\n",
       "    }\n",
       "\n",
       "    .dataframe thead th {\n",
       "        text-align: right;\n",
       "    }\n",
       "</style>\n",
       "<table border=\"1\" class=\"dataframe\">\n",
       "  <thead>\n",
       "    <tr style=\"text-align: right;\">\n",
       "      <th></th>\n",
       "      <th>actual</th>\n",
       "      <th>predictions</th>\n",
       "    </tr>\n",
       "  </thead>\n",
       "  <tbody>\n",
       "    <tr>\n",
       "      <th>0</th>\n",
       "      <td>419000.0</td>\n",
       "      <td>NaN</td>\n",
       "    </tr>\n",
       "    <tr>\n",
       "      <th>1</th>\n",
       "      <td>291000.0</td>\n",
       "      <td>NaN</td>\n",
       "    </tr>\n",
       "    <tr>\n",
       "      <th>2</th>\n",
       "      <td>103000.0</td>\n",
       "      <td>NaN</td>\n",
       "    </tr>\n",
       "    <tr>\n",
       "      <th>3</th>\n",
       "      <td>411690.0</td>\n",
       "      <td>NaN</td>\n",
       "    </tr>\n",
       "    <tr>\n",
       "      <th>4</th>\n",
       "      <td>459900.0</td>\n",
       "      <td>NaN</td>\n",
       "    </tr>\n",
       "    <tr>\n",
       "      <th>...</th>\n",
       "      <td>...</td>\n",
       "      <td>...</td>\n",
       "    </tr>\n",
       "    <tr>\n",
       "      <th>132009</th>\n",
       "      <td>275000.0</td>\n",
       "      <td>NaN</td>\n",
       "    </tr>\n",
       "    <tr>\n",
       "      <th>132010</th>\n",
       "      <td>494000.0</td>\n",
       "      <td>NaN</td>\n",
       "    </tr>\n",
       "    <tr>\n",
       "      <th>132011</th>\n",
       "      <td>900000.0</td>\n",
       "      <td>NaN</td>\n",
       "    </tr>\n",
       "    <tr>\n",
       "      <th>132012</th>\n",
       "      <td>175000.0</td>\n",
       "      <td>NaN</td>\n",
       "    </tr>\n",
       "    <tr>\n",
       "      <th>132013</th>\n",
       "      <td>50500.0</td>\n",
       "      <td>NaN</td>\n",
       "    </tr>\n",
       "  </tbody>\n",
       "</table>\n",
       "<p>132014 rows × 2 columns</p>\n",
       "</div>"
      ],
      "text/plain": [
       "          actual  predictions\n",
       "0       419000.0          NaN\n",
       "1       291000.0          NaN\n",
       "2       103000.0          NaN\n",
       "3       411690.0          NaN\n",
       "4       459900.0          NaN\n",
       "...          ...          ...\n",
       "132009  275000.0          NaN\n",
       "132010  494000.0          NaN\n",
       "132011  900000.0          NaN\n",
       "132012  175000.0          NaN\n",
       "132013   50500.0          NaN\n",
       "\n",
       "[132014 rows x 2 columns]"
      ]
     },
     "execution_count": 110,
     "metadata": {},
     "output_type": "execute_result"
    }
   ],
   "source": [
    "df_out"
   ]
  },
  {
   "cell_type": "code",
   "execution_count": null,
   "id": "daa016aa-3d75-4d5e-a26c-0ac413144519",
   "metadata": {},
   "outputs": [],
   "source": []
  }
 ],
 "metadata": {
  "kernelspec": {
   "display_name": "Python 3 (ipykernel)",
   "language": "python",
   "name": "python3"
  },
  "language_info": {
   "codemirror_mode": {
    "name": "ipython",
    "version": 3
   },
   "file_extension": ".py",
   "mimetype": "text/x-python",
   "name": "python",
   "nbconvert_exporter": "python",
   "pygments_lexer": "ipython3",
   "version": "3.11.5"
  }
 },
 "nbformat": 4,
 "nbformat_minor": 5
}
